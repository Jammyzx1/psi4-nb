{
 "cells": [
  {
   "cell_type": "markdown",
   "id": "ae25d02b",
   "metadata": {},
   "source": [
    "# Psi4 Examples\n",
    "This notebook accompaies the Medium article `Doing Quantum Chemistry through Python`. The examples below are written in June 2023 using Psi4 version 1.8. \n",
    "\n",
    "Copyright (c) 2023 James L. McDonagh\n",
    "\n",
    "Permission is hereby granted, free of charge, to any person obtaining a copy\n",
    "of this software and associated documentation files (the \"Software\"), to deal\n",
    "in the Software without restriction, including without limitation the rights\n",
    "to use, copy, modify, merge, publish, distribute, sublicense, and/or sell\n",
    "copies of the Software, and to permit persons to whom the Software is\n",
    "furnished to do so, subject to the following conditions:\n",
    "\n",
    "The above copyright notice and this permission notice shall be included in all\n",
    "copies or substantial portions of the Software.\n",
    "\n",
    "THE SOFTWARE IS PROVIDED \"AS IS\", WITHOUT WARRANTY OF ANY KIND, EXPRESS OR\n",
    "IMPLIED, INCLUDING BUT NOT LIMITED TO THE WARRANTIES OF MERCHANTABILITY,\n",
    "FITNESS FOR A PARTICULAR PURPOSE AND NONINFRINGEMENT. IN NO EVENT SHALL THE\n",
    "AUTHORS OR COPYRIGHT HOLDERS BE LIABLE FOR ANY CLAIM, DAMAGES OR OTHER\n",
    "LIABILITY, WHETHER IN AN ACTION OF CONTRACT, TORT OR OTHERWISE, ARISING FROM,\n",
    "OUT OF OR IN CONNECTION WITH THE SOFTWARE OR THE USE OR OTHER DEALINGS IN THE\n",
    "SOFTWARE."
   ]
  },
  {
   "cell_type": "code",
   "execution_count": null,
   "id": "2547ca95",
   "metadata": {},
   "outputs": [],
   "source": [
    "from typing import Union, Tuple\n",
    "import psi4\n",
    "import os\n",
    "import numpy as np\n",
    "import logging\n",
    "\n",
    "logging.basicConfig(format=\"%(message)s\")\n",
    "log = logging.getLogger(__name__)\n",
    "log.setLevel(\"INFO\")"
   ]
  },
  {
   "cell_type": "code",
   "execution_count": null,
   "id": "6a4972fc",
   "metadata": {},
   "outputs": [],
   "source": [
    "psi4.__version__"
   ]
  },
  {
   "cell_type": "markdown",
   "id": "0f8a15e1",
   "metadata": {},
   "source": [
    "## Global options"
   ]
  },
  {
   "cell_type": "markdown",
   "id": "f3f1566f",
   "metadata": {},
   "source": [
    "Psi4 has a large list of global options which we can set for our calculations. The next cell provides a list of the global options. We can then set some of these global options with a dictionary of `{$OPTION: $VALUE}`. your can reset all options to the initial set using `psi4.core.clean_options()`."
   ]
  },
  {
   "cell_type": "code",
   "execution_count": null,
   "id": "0be8314e",
   "metadata": {},
   "outputs": [],
   "source": [
    "psi4.core.print_global_options()"
   ]
  },
  {
   "cell_type": "code",
   "execution_count": null,
   "id": "879a0804",
   "metadata": {},
   "outputs": [],
   "source": [
    "psi4.set_options(\n",
    "    {\n",
    "        \"SAVE_OPTIMIZATION\": True,\n",
    "        \"MAXITER\": 100,\n",
    "        \"GEOM_MAXITER\": 100,\n",
    "        \"FULL_HESS_EVERY\": 5,\n",
    "        \"PRINT\": 2,\n",
    "        \"GUESS\": \"sad\",\n",
    "        \"REFERENCE\": \"uhf\",\n",
    "        \"SCF_TYPE\": \"direct\",\n",
    "    }\n",
    ")"
   ]
  },
  {
   "cell_type": "markdown",
   "id": "3d2826fb",
   "metadata": {},
   "source": [
    "We can also set the path for psi4 to save tempory files. This is particularly useful if you want to keep certain tempory files for restart purposes e.g.\n",
    "```\n",
    "psi4_io.set_specific_path(32, './')\n",
    "psi4_io.set_specific_retention(32, True)\n",
    "```\n",
    "\n",
    "To keep the restart unit 32 in the current directory.\n",
    "\n",
    "In this case so we can see everyting we set the path to the current working directory for all files. In general this isn't the best plan but for learning it can be helpful."
   ]
  },
  {
   "cell_type": "code",
   "execution_count": null,
   "id": "d48a3ca5",
   "metadata": {},
   "outputs": [],
   "source": [
    "psi4_io = psi4.core.IOManager.shared_object()"
   ]
  },
  {
   "cell_type": "code",
   "execution_count": null,
   "id": "ff7b0112",
   "metadata": {},
   "outputs": [],
   "source": [
    "psi4_io.set_default_path(os.getcwd())"
   ]
  },
  {
   "cell_type": "markdown",
   "id": "e5827908",
   "metadata": {},
   "source": [
    "## Energy and Geometry Optimization Calculations\n",
    "This section covers some of the most common qunatum chemistry calculations through the Psi4 python API. Other examples can be found on Psi4's own [GitHub](https://github.com/psi4/psi4/tree/master/samples/python) pages."
   ]
  },
  {
   "cell_type": "markdown",
   "id": "4850b419",
   "metadata": {},
   "source": [
    "### Energy calculations\n",
    "Lets try a few examples to calculate the energy of water with different methods. In the next section we set the mmeory avaliable to use for the calculations and then an output file. If we don't set an output file it will output to the screen."
   ]
  },
  {
   "cell_type": "code",
   "execution_count": null,
   "id": "6b012ec0",
   "metadata": {},
   "outputs": [],
   "source": [
    "psi4.set_memory(\"1GB\")\n",
    "psi4.set_output_file(\"p4_output.txt\", append=False, loglevel=20, print_header=True, inherit_loglevel=True)\n",
    "psi4.core.set_num_threads(4)"
   ]
  },
  {
   "cell_type": "code",
   "execution_count": null,
   "id": "92a1f4b7",
   "metadata": {},
   "outputs": [],
   "source": [
    "molecule = psi4.geometry(\n",
    "    \"\"\"\n",
    "    0 1\n",
    "    O     0.00000     0.64670    -0.01863\n",
    "    H     0.76026     0.61622    -0.62453\n",
    "    H    -0.76026     0.61622    -0.62453\n",
    "    units angstrom\n",
    "    symmetry c1\n",
    "    \"\"\" \n",
    ")"
   ]
  },
  {
   "cell_type": "code",
   "execution_count": null,
   "id": "141c3b38",
   "metadata": {},
   "outputs": [],
   "source": [
    "energy = psi4.energy(\"hf/cc-pvdz\")\n",
    "log.info(\"The energy for this configuration is {:.6f} Hartree\".format(energy))"
   ]
  },
  {
   "cell_type": "markdown",
   "id": "98d58b37",
   "metadata": {},
   "source": [
    "We can clean up all of the tempory files with one command"
   ]
  },
  {
   "cell_type": "code",
   "execution_count": null,
   "id": "b0473d8e",
   "metadata": {},
   "outputs": [],
   "source": [
    "psi4.core.clean()"
   ]
  },
  {
   "cell_type": "markdown",
   "id": "d72a8277",
   "metadata": {},
   "source": [
    "### Geometry Optimization"
   ]
  },
  {
   "cell_type": "markdown",
   "id": "ecf21c05",
   "metadata": {},
   "source": [
    "In this section we can use the molecule as defined for the energy calculation to optimize its geometry"
   ]
  },
  {
   "cell_type": "code",
   "execution_count": null,
   "id": "a3f58f91",
   "metadata": {},
   "outputs": [],
   "source": [
    "molecule = psi4.geometry(\n",
    "    \"\"\"\n",
    "    0 1\n",
    "    O     0.00000     0.64670    -0.01863\n",
    "    H     0.76026     0.61622    -0.62453\n",
    "    H    -0.76026     0.61622    -0.62453\n",
    "    units angstrom\n",
    "    symmetry c1\n",
    "    \"\"\" \n",
    ")"
   ]
  },
  {
   "cell_type": "code",
   "execution_count": null,
   "id": "9166ab1b",
   "metadata": {},
   "outputs": [],
   "source": [
    "opt_energy = psi4.optimize(\"hf/cc-pvdz\")\n",
    "log.info(\"The optimized energy for this configuration is {:.6f} Hartree\".format(opt_energy))"
   ]
  },
  {
   "cell_type": "code",
   "execution_count": null,
   "id": "e5e3be55",
   "metadata": {},
   "outputs": [],
   "source": [
    "log.info(\"Difference in energy from initial conformation to optimized conformation {:.6f} Hartree\".format(energy - opt_energy))"
   ]
  },
  {
   "cell_type": "code",
   "execution_count": null,
   "id": "5c2db709",
   "metadata": {},
   "outputs": [],
   "source": [
    "psi4.core.clean()"
   ]
  },
  {
   "cell_type": "markdown",
   "id": "5ce2e7e4",
   "metadata": {},
   "source": [
    "This is great for a small example but what about for larger examples that might not converge in the number steps? We can use a pythonic `try` and `except` statement and return the wavefunction object to allow us to restart. Lets simulate this with our water example we will give only two steps to optimze and catach the expection then continue with more steps."
   ]
  },
  {
   "cell_type": "code",
   "execution_count": null,
   "id": "732ec2d9",
   "metadata": {},
   "outputs": [],
   "source": [
    "molecule = psi4.geometry(\n",
    "    \"\"\"\n",
    "    0 1\n",
    "    O     0.10000     0.74670    -0.02863\n",
    "    H     0.76026     0.61622    -0.62453\n",
    "    H    -0.76026     0.61622    -0.62453\n",
    "    units angstrom\n",
    "    symmetry c1\n",
    "    \"\"\" \n",
    ")"
   ]
  },
  {
   "cell_type": "code",
   "execution_count": null,
   "id": "035a2432",
   "metadata": {},
   "outputs": [],
   "source": [
    "psi4.set_options(\n",
    "    {\n",
    "        \"MAXITER\": 2,\n",
    "        \"GEOM_MAXITER\": 2\n",
    "    }\n",
    ")"
   ]
  },
  {
   "cell_type": "code",
   "execution_count": null,
   "id": "498a4683",
   "metadata": {},
   "outputs": [],
   "source": [
    "try:\n",
    "    opt_energy = psi4.optimize(\"hf/cc-pvdz\")\n",
    "    log.info(\"The optimized energy for this configuration is {:.6f} Hartree\".format(opt_energy))\n",
    "    unconv = False\n",
    "except psi4.driver.ConvergenceError as cerr:\n",
    "    log.warning(\"Geometry unconverged will try restarting\")\n",
    "    unconv_wfn = cerr.wfn\n",
    "    unconv_wfn.to_file(unconv_wfn.get_scratch_filename(180))\n",
    "    psi4.set_options(\n",
    "        {\n",
    "            \"GUESS\": \"read\",\n",
    "            \"MAXITER\": 100,\n",
    "            \"GEOM_MAXITER\": 100,\n",
    "        }\n",
    "    )\n",
    "    psi4.optimize(\"hf/cc-pvdz\")\n",
    "    log.info(\"The optimized energy for this configuration is {:.6f} Hartree\".format(opt_energy))\n"
   ]
  },
  {
   "cell_type": "markdown",
   "id": "3e663e82",
   "metadata": {},
   "source": [
    "We can construct this in to a general function for optimization"
   ]
  },
  {
   "cell_type": "code",
   "execution_count": null,
   "id": "7de05f2d",
   "metadata": {},
   "outputs": [],
   "source": [
    "def psi4_optimize(initial_iterations: int = 2,\n",
    "                  increment_iteration: int = 2,\n",
    "                  max_loop_count: int = 20,\n",
    "                  molecule: Union[psi4.core.Molecule, None] = None,\n",
    "                  method: str = \"hf/cc-pvdz\"\n",
    "                 ) -> Tuple[float, psi4.core.Wavefunction, dict]:\n",
    "    \"\"\"\n",
    "    General function to run Psi4 optimization and restart a max of max_loop_count times incrementing the number\n",
    "    of iterations by increment_iteration from initial_iterations each loop\n",
    "    :param initial_iterations: integer the number of initial iterations\n",
    "    :param increment_iteration: integer the number of iteration increment by each time it fails to converge\n",
    "    :param max_loop_count: integer the maximum number of times to increment for convergence incomplete\n",
    "    :param molecule: psi4.core.Molecule the molecule object or None if given will save last geometry of each unconverged loop\n",
    "    :method: string define the quantum chem optimization method eg hf/cc-pvdz\n",
    "    :return: Tuple[float, psi4.core.Wavefunction, list] the energy, the wavefunction object and the history of conformations\n",
    "    \"\"\"\n",
    "    \n",
    "    log = logging.getLogger(__name__)\n",
    "    \n",
    "    unconv = True\n",
    "\n",
    "    psi4.set_options(\n",
    "        {\n",
    "            \"MAXITER\": initial_iterations,\n",
    "            \"GEOM_MAXITER\": initial_iterations\n",
    "        }\n",
    "    )\n",
    "    \n",
    "    loop_count = 0\n",
    "    \n",
    "    if molecule is not None:\n",
    "        molecule_traj = []\n",
    "\n",
    "    while unconv is True:\n",
    "        \n",
    "        try:\n",
    "            \n",
    "            log.info(\"\\ncount {}\\n\".format(loop_count))\n",
    "            opt_energy, wfn, traj = psi4.optimize(method, return_wfn=True, return_history=True)\n",
    "            log.info(\"The optimized energy for this configuration is {:.6f} Hartree\".format(opt_energy))\n",
    "            unconv = False\n",
    "            \n",
    "        except psi4.driver.ConvergenceError as cerr:\n",
    "            \n",
    "            log.warning(\"Geometry unconverged will try restarting\")\n",
    "            if molecule is not None:\n",
    "                bohr_coor = molecule.geometry()\n",
    "                bohr_coor.scale(psi4.constants.bohr2angstroms)\n",
    "                molecule_traj.append(bohr_coor.to_array())\n",
    "            unconv_wfn = cerr.wfn\n",
    "            unconv_wfn.to_file(unconv_wfn.get_scratch_filename(180))\n",
    "            psi4.set_options(\n",
    "                {\n",
    "                    \"GUESS\": \"read\",\n",
    "                    \"MAXITER\": initial_iterations + increment_iteration,\n",
    "                    \"GEOM_MAXITER\": initial_iterations + increment_iteration\n",
    "                }\n",
    "            )\n",
    "            \n",
    "            loop_count = loop_count + 1\n",
    "\n",
    "            if max_loop_count <= loop_count:\n",
    "                log.error(\"Unconverged in maximum number of loops\")\n",
    "                raise cerr\n",
    "                \n",
    "    if molecule is not None:\n",
    "        traj = {\"coordinates\": tuple(np.array(molecule_traj))}\n",
    "\n",
    "    return opt_energy, wfn, traj"
   ]
  },
  {
   "cell_type": "code",
   "execution_count": null,
   "id": "e2d7065b",
   "metadata": {},
   "outputs": [],
   "source": [
    "molecule = psi4.geometry(\n",
    "    \"\"\"\n",
    "    0 1\n",
    "    O     0.00000     0.74670    -0.01863\n",
    "    H     0.76026     0.61622    -0.62453\n",
    "    H    -0.76026     0.61622    -0.62453\n",
    "    units angstrom\n",
    "    symmetry c1\n",
    "    \"\"\" \n",
    ")\n",
    "\n",
    "psi4.set_memory(\"1GB\")\n",
    "psi4.set_output_file(\"p4_output.txt\", append=False, loglevel=20, print_header=True, inherit_loglevel=True)\n",
    "psi4.core.set_num_threads(4)\n",
    "\n",
    "#Include optional molecule=molecule to get a trajectory of the final geometry of each loop inplace of the psi4 history\n",
    "energy, wfn, traj = psi4_optimize(initial_iterations=10,\n",
    "                                  increment_iteration=10,\n",
    "                                  max_loop_count=20,\n",
    "                                  method=\"hf/cc-pvdz\",\n",
    "                                 )\n",
    "\n",
    "log.info(\"Optimized energy {}\".format(energy))\n",
    "\n",
    "psi4.core.clean()"
   ]
  },
  {
   "cell_type": "markdown",
   "id": "e61c3b39",
   "metadata": {},
   "source": [
    "## One electron properties"
   ]
  },
  {
   "cell_type": "markdown",
   "id": "3b7fcdf2",
   "metadata": {},
   "source": [
    "Having reached a minimum Psi4 allows you calculate one electron proerties"
   ]
  },
  {
   "cell_type": "code",
   "execution_count": null,
   "id": "c84ef28e",
   "metadata": {},
   "outputs": [],
   "source": [
    "oeprops = psi4.core.OEProp(wfn)\n",
    "oeprops.add(\"DIPOLE\")\n",
    "oeprops.add(\"QUADRUPOLE\")\n",
    "oeprops.add(\"MULLIKEN_CHARGES\")\n",
    "oeprops.add(\"MULTIPOLE(4)\")\n",
    "oeprops.add(\"ESP_AT_NUCLEI\")\n",
    "oeprops.add(\"MO_EXTENTS\")\n",
    "oeprops.add(\"LOWDIN_CHARGES\")\n",
    "oeprops.add(\"WIBERG_LOWDIN_INDICES\")\n",
    "oeprops.add(\"MAYER_INDICES\")\n",
    "oeprops.add(\"NO_OCCUPATIONS\")\n",
    "oeprops.compute()"
   ]
  },
  {
   "cell_type": "code",
   "execution_count": null,
   "id": "d317aefb",
   "metadata": {},
   "outputs": [],
   "source": [
    "properties = wfn.variables()\n",
    "properties[\"DIPOLE\"]"
   ]
  },
  {
   "cell_type": "markdown",
   "id": "e742cd8b",
   "metadata": {},
   "source": [
    "## Interaction energy calculation"
   ]
  },
  {
   "cell_type": "markdown",
   "id": "d94b3f05",
   "metadata": {},
   "source": [
    "In this section we show how to calculate binding energy with a counterpoise correction to the energy."
   ]
  },
  {
   "cell_type": "code",
   "execution_count": null,
   "id": "39f53f42",
   "metadata": {},
   "outputs": [],
   "source": [
    "molecule = psi4.geometry(\n",
    "    \"\"\"\n",
    "    0 1\n",
    "    O        0.00000        0.64670       -0.01863\n",
    "    H        0.76026        0.61622       -0.62453\n",
    "    H       -0.76026        0.61622       -0.62453\n",
    "    --\n",
    "    0 1\n",
    "    O        0.00000       -0.04191        2.64300\n",
    "    H        0.00000        0.08820        1.66859\n",
    "    H        0.00000        0.87457        2.95608\n",
    "    units angstrom\n",
    "    symmetry c1\n",
    "    \"\"\" \n",
    ")"
   ]
  },
  {
   "cell_type": "code",
   "execution_count": null,
   "id": "22ffb52c",
   "metadata": {},
   "outputs": [],
   "source": [
    "interaction_energy = psi4.energy(\"hf/cc-pvdz\", bsse_type=\"cp\")\n",
    "log.info(\"Interaction energy {} Hartree\".format(interaction_energy))"
   ]
  },
  {
   "cell_type": "code",
   "execution_count": null,
   "id": "a98c94ef",
   "metadata": {},
   "outputs": [],
   "source": [
    "psi4.core.clean()"
   ]
  },
  {
   "cell_type": "code",
   "execution_count": null,
   "id": "01e6db79",
   "metadata": {},
   "outputs": [],
   "source": []
  }
 ],
 "metadata": {
  "kernelspec": {
   "display_name": "Python 3 (ipykernel)",
   "language": "python",
   "name": "python3"
  },
  "language_info": {
   "codemirror_mode": {
    "name": "ipython",
    "version": 3
   },
   "file_extension": ".py",
   "mimetype": "text/x-python",
   "name": "python",
   "nbconvert_exporter": "python",
   "pygments_lexer": "ipython3",
   "version": "3.8.16"
  }
 },
 "nbformat": 4,
 "nbformat_minor": 5
}
